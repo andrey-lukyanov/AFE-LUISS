{
 "cells": [
  {
   "cell_type": "markdown",
   "metadata": {},
   "source": [
    "# Assignment 2\n",
    "## Advanced Financial Economics M-335\n",
    "\n",
    "#### An Exercise of Financial Crises Prediction Using Machine Learning Techniques.\n",
    "\n",
    "This assignment is inspired by the research article *'Credit growth, the yield curve and financial\n",
    "crisis prediction: evidence from a machine\n",
    "learning approach'* (2019), by Bluwstein et al. The idea is to reproduce the financial crises prediction exercise in that paper on a smaller scale.\n",
    "\n",
    "Our prediction exercise takes the form of a binary classification problem, where each datapoint characterized by a vector of predictors $\\textbf{x}_t=(x^1_t, x^2_t,\\dots,x^N_t)$ realized at time $t$ must be classified into one of two categories: 1) there **will** be a financial crises **at time *t+1 or t+2***. 2) there **will not** be a financial crises **at time *t+1 or t+2***. Time *t* is measured in years. Your task is to implement this prediction problem using five machine learning algorithms:\n",
    " 1. logistic regression\n",
    " 2. logistic regression with LASSO regularization\n",
    " 3. random trees\n",
    " 4. random forest\n",
    " 5. neural networks. \n",
    "   \n",
    "Your task is to assess the accuracy of each and make all the performance comparisons you deem appropriate from what we have learned in class.\n",
    "\n",
    "I will walk you through the beginning of this exercise, basically importing and cleaning the data. Then I'll leave you to the rest...\n",
    "\n",
    "To get started, open the Jupyter Notebook where you will execute your assignment."
   ]
  },
  {
   "cell_type": "markdown",
   "metadata": {},
   "source": [
    "\n",
    "##### 1. Import the Python modules you need\n",
    "First import the modules you need (you will certainly need to import more later on, `matplotlib` or `seaborn` for plotting, `sklearn` indeed. By the way, remember to add `%matplotlib inline` to show plots)"
   ]
  },
  {
   "cell_type": "code",
   "execution_count": 1,
   "metadata": {},
   "outputs": [],
   "source": [
    "import numpy as np\n",
    "import pandas as pd"
   ]
  },
  {
   "cell_type": "markdown",
   "metadata": {},
   "source": [
    "##### 2. Load the dataset as a Pandas Data Frame\n",
    "Import the dataset from the Excel file (located in the same directory as notebook) as a Pandas DataFrame"
   ]
  },
  {
   "cell_type": "code",
   "execution_count": 2,
   "metadata": {},
   "outputs": [],
   "source": [
    "df=pd.read_excel(\"JSTdatasetR4.xlsx\",sheet_name=\"Data\")"
   ]
  },
  {
   "cell_type": "markdown",
   "metadata": {},
   "source": [
    "##### 3. Creating the desired variables in a new Data Frame\n",
    "Now we need to do a few manipulations on the database. Basically we need to create a smaller dataframe comprising only the variables we need, which are those in the *Baseline Experiment* of Bluwstein et al (2019). The code below (with comments) reports how I would do it, but feel free to follow your own method based on your reading of the paper:"
   ]
  },
  {
   "cell_type": "code",
   "execution_count": 3,
   "metadata": {},
   "outputs": [
    {
     "data": {
      "text/plain": [
       "array(['Australia', 'Belgium', 'Canada', 'Denmark', 'Finland', 'France',\n",
       "       'Germany', 'Italy', 'Japan', 'Netherlands', 'Norway', 'Portugal',\n",
       "       'Spain', 'Sweden', 'Switzerland', 'UK', 'USA'], dtype=object)"
      ]
     },
     "execution_count": 3,
     "metadata": {},
     "output_type": "execute_result"
    }
   ],
   "source": [
    "df.country.unique()"
   ]
  },
  {
   "cell_type": "code",
   "execution_count": 4,
   "metadata": {},
   "outputs": [],
   "source": [
    "#let's make a copy, in order to preserve original dataset\n",
    "df_copy=df.copy()\n",
    "#let's create new (temporary) columns with the transormed variables we need:\n",
    "#-slope of the yield curve\n",
    "df_copy[\"slope_yield_curve\"]=df_copy[\"ltrate\"]/100-df_copy[\"stir\"]/100\n",
    "# credit: loans to the privete sector / gdp\n",
    "df_copy[\"credit\"]=df_copy[\"tloans\"]/df_copy[\"gdp\"]\n",
    "# debt service ratio: credit * long term interest rate\n",
    "df_copy[\"debt_serv_ratio\"]=(df_copy[\"tloans\"]/df_copy[\"gdp\"])*df_copy[\"ltrate\"]/100\n",
    "# broad money over gdp\n",
    "df_copy[\"bmoney_gdp\"]=df_copy[\"money\"]/df_copy[\"gdp\"]\n",
    "# current account over gdp\n",
    "df_copy[\"curr_acc_gdp\"]=df_copy[\"ca\"]/df_copy[\"gdp\"]\n",
    "# Now we need to compute 1-year absolute variations and percentage variations for a few variables\n",
    "# Obviosly this must be done country-wise, so we cannot act on the dataframe as it is.\n",
    "# a Convenient way of doing this is the Pandas method 'groupby()'\n",
    "df_copy_group=df_copy.groupby(\"iso\") # 'iso' is the country code\n",
    "# create 1 year-variation of credit from grouped dataframe and add back to initial dataframe\n",
    "df_copy[\"delta_credit\"]=df_copy_group[\"credit\"].diff(periods=1)\n",
    "# create 1 year-variation of debt ser ratio from grouped dataframe and add back to initial dataframe\n",
    "df_copy[\"delta_debt_serv_ratio\"]=df_copy_group[\"debt_serv_ratio\"].diff(periods=1)\n",
    "# create 1 year-variation of investment/gdp from grouped dataframe and add back to initial dataframe\n",
    "df_copy[\"delta_investm_ratio\"]=df_copy_group[\"iy\"].diff(periods=1)\n",
    "# create 1 year-variation of public debt/gdp from grouped dataframe and add back to initial dataframe\n",
    "df_copy[\"delta_pdebt_ratio\"]=df_copy_group[\"debtgdp\"].diff(periods=1)\n",
    "# create 1 year-variation of broad money / gdp from grouped dataframe and add back to initial dataframe\n",
    "df_copy[\"delta_bmoney_gdp\"]=df_copy_group[\"bmoney_gdp\"].diff(periods=1)\n",
    "# create 1 year-variation of current / gdp from grouped dataframe and add back to initial dataframe\n",
    "df_copy[\"delta_curr_acc_gdp\"]=df_copy_group[\"curr_acc_gdp\"].diff(periods=1)\n",
    "# now we need to create new variables which are 1-year growth rates of existing ones\n",
    "\n",
    "# we will need this function to apply to the columns of the dataframe\n",
    "\n",
    "def lag_pct_change(x):\n",
    "    \"\"\" Computes percentage changes \"\"\"\n",
    "    lag = np.array(pd.Series(x).shift(1))\n",
    "    return (x - lag) / lag\n",
    "\n",
    "# create 1 year growth rate of CPI from grouped dataframe and add back to initial dataframe\n",
    "df_copy[\"growth_cpi\"]=df_copy_group[\"cpi\"].apply(lag_pct_change)\n",
    "# create 1 year growth rate of consumption per capita from grouped dataframe and add back to initial dataframe\n",
    "df_copy[\"growth_cons\"]=df_copy_group[\"rconpc\"].apply(lag_pct_change)\n",
    "\n",
    "# low let's create the crises early warning label: a dummy variable which takes value one if in the next \n",
    "# or two there will be a crises\n",
    "\n",
    "# temporary array of zeros, dimension number of rows in database\n",
    "temp_array=np.zeros(len(df_copy))\n",
    "# loop to create dummy\n",
    "for i in np.arange(0,len(df_copy)-2):\n",
    "    temp_array[i]= 1 if ( (df_copy.loc[i+1,'crisisJST']== 1) or (df_copy.loc[i+2,'crisisJST']== 1)  ) else 0\n",
    "\n",
    "#put the dummy in the dataframe\n",
    "\n",
    "df_copy[\"crisis_warning\"]=temp_array.astype(\"int64\")\n",
    "\n",
    "# create a smaller dataframe including only the variables we are interested in: the first ten are predictors (X) and the last one is the output, or label (y)\n",
    "variables=[\"slope_yield_curve\",\"delta_credit\",\"delta_debt_serv_ratio\",\"delta_investm_ratio\",\"delta_pdebt_ratio\",\"delta_bmoney_gdp\",\"delta_curr_acc_gdp\",\"growth_cpi\",\"growth_cons\",\"eq_tr\",\"crisis_warning\"]\n",
    "df_final=df_copy[variables].dropna()\n",
    "\n",
    "# let's also create a version of our dataframe which includes the year\n",
    "df_final_withyear=df_copy[[\"year\"]+variables].dropna()"
   ]
  },
  {
   "cell_type": "markdown",
   "metadata": {},
   "source": [
    "Notice that Bluwstein et al (2019) drop more observations than what I did in order to obtain more robust results. Fill free to follow their procedure more closely. Otherwise, I am fine with `df_final`.\n",
    "\n",
    "##### 4. Now perform your analysis\n",
    "Remember that the feature that you need to predict (the outcome $y$) is the variable `df_final[\"crisis_warning\"]`, while all the other columns in the data frame are the features $x$ that you use to predict it.\n",
    "\n",
    "Inspired by what we have learned from the notebooks `regression.ipynb` and `classification.ipynb`, and possibly your reading of the additional material in the repository, perform your data analysis:\n",
    "\n",
    "1. Randomly split the data into a training and a test sample.\n",
    "2. Fit the following models on the training sample:\n",
    "    * logistic regression\n",
    "    * logistic regression with LASSO regularization. Here, select the regularization parameter using a 5-fold cross validation\n",
    "    *  random trees. Experiment with different tree depths, not necessarily with a cross validation\n",
    "    *  random forest \n",
    "    *  neural networks. Experiment with different numbers of hidden layers, and neurons for each layers, not necessarily using a cross-validation\n",
    "3. Plot the ROC curves for the best versions of your models and compute the AUROC. According to this criterion, which model performs best ?\n",
    "4. Compare the confusion matrices generated by the models.\n",
    "5. Which variables do 'survive' in the logistic regression with LASSO ? \n",
    "6. OPTIONAL: Is there a way in the logistic regression to conclude which variables are more important for the prediction performance ?\n",
    "7. OPTIONAL: Now let's see if in a real-time experiment any of our models would have predicted the financial crises of 2007-08. Put all the observations before (and including) 2005 in the training sample, and the rest in the test sample. You can use the data frame `df_final_withyear` for this purpose. Fit your preferred model for each of the 5 categories on the training sample. Would have they warned us in 2006 and 2007 of the imminent financial crises?  (for the logistic regressions, in order to draw this conclusion use the probability thresholds which, on  the ROC curves, obtain an 80\\% rate of true positives).\n",
    "8. OPTIONAL: compute any indicator you like......  \n"
   ]
  },
  {
   "cell_type": "code",
   "execution_count": 5,
   "metadata": {},
   "outputs": [],
   "source": [
    "from sklearn.model_selection import train_test_split\n",
    "import matplotlib.pyplot as plt\n",
    "%matplotlib inline"
   ]
  },
  {
   "cell_type": "markdown",
   "metadata": {},
   "source": [
    "# 1. Train test split"
   ]
  },
  {
   "cell_type": "code",
   "execution_count": 6,
   "metadata": {},
   "outputs": [],
   "source": [
    "X = df_final.drop('crisis_warning', axis = 1)\n",
    "y = df_final.crisis_warning\n",
    "\n",
    "X_train, X_test, y_train, y_test = train_test_split(X, y, test_size = 0.2, random_state = 1)"
   ]
  },
  {
   "cell_type": "markdown",
   "metadata": {},
   "source": [
    "# 2. Fitting"
   ]
  },
  {
   "cell_type": "markdown",
   "metadata": {},
   "source": [
    "## Logistic Regression"
   ]
  },
  {
   "cell_type": "code",
   "execution_count": 7,
   "metadata": {},
   "outputs": [],
   "source": [
    "from sklearn.linear_model import LogisticRegression\n",
    "\n",
    "log_reg = LogisticRegression(penalty = 'none', max_iter = 1000).fit(X_train, y_train)"
   ]
  },
  {
   "cell_type": "markdown",
   "metadata": {},
   "source": [
    "## Logistic Regression with Lasso"
   ]
  },
  {
   "cell_type": "code",
   "execution_count": 8,
   "metadata": {},
   "outputs": [],
   "source": [
    "from sklearn.model_selection import GridSearchCV"
   ]
  },
  {
   "cell_type": "code",
   "execution_count": 9,
   "metadata": {},
   "outputs": [
    {
     "name": "stderr",
     "output_type": "stream",
     "text": [
      "/Users/andrey_lukyanov/anaconda3/lib/python3.7/site-packages/sklearn/utils/validation.py:70: FutureWarning: Pass scoring=roc_auc as keyword args. From version 0.25 passing these as positional arguments will result in an error\n",
      "  FutureWarning)\n"
     ]
    },
    {
     "data": {
      "text/html": [
       "<div>\n",
       "<style scoped>\n",
       "    .dataframe tbody tr th:only-of-type {\n",
       "        vertical-align: middle;\n",
       "    }\n",
       "\n",
       "    .dataframe tbody tr th {\n",
       "        vertical-align: top;\n",
       "    }\n",
       "\n",
       "    .dataframe thead th {\n",
       "        text-align: right;\n",
       "    }\n",
       "</style>\n",
       "<table border=\"1\" class=\"dataframe\">\n",
       "  <thead>\n",
       "    <tr style=\"text-align: right;\">\n",
       "      <th></th>\n",
       "      <th>mean_fit_time</th>\n",
       "      <th>std_fit_time</th>\n",
       "      <th>mean_score_time</th>\n",
       "      <th>std_score_time</th>\n",
       "      <th>param_C</th>\n",
       "      <th>params</th>\n",
       "      <th>split0_test_score</th>\n",
       "      <th>split1_test_score</th>\n",
       "      <th>split2_test_score</th>\n",
       "      <th>split3_test_score</th>\n",
       "      <th>split4_test_score</th>\n",
       "      <th>mean_test_score</th>\n",
       "      <th>std_test_score</th>\n",
       "      <th>rank_test_score</th>\n",
       "    </tr>\n",
       "  </thead>\n",
       "  <tbody>\n",
       "    <tr>\n",
       "      <th>0</th>\n",
       "      <td>0.003502</td>\n",
       "      <td>0.000564</td>\n",
       "      <td>0.002379</td>\n",
       "      <td>0.000291</td>\n",
       "      <td>1</td>\n",
       "      <td>{'C': 1}</td>\n",
       "      <td>0.592961</td>\n",
       "      <td>0.621957</td>\n",
       "      <td>0.665053</td>\n",
       "      <td>0.515789</td>\n",
       "      <td>0.476222</td>\n",
       "      <td>0.574396</td>\n",
       "      <td>0.069135</td>\n",
       "      <td>3</td>\n",
       "    </tr>\n",
       "    <tr>\n",
       "      <th>1</th>\n",
       "      <td>0.003260</td>\n",
       "      <td>0.000338</td>\n",
       "      <td>0.002257</td>\n",
       "      <td>0.000256</td>\n",
       "      <td>10</td>\n",
       "      <td>{'C': 10}</td>\n",
       "      <td>0.745241</td>\n",
       "      <td>0.724436</td>\n",
       "      <td>0.742737</td>\n",
       "      <td>0.632000</td>\n",
       "      <td>0.710444</td>\n",
       "      <td>0.710972</td>\n",
       "      <td>0.041477</td>\n",
       "      <td>2</td>\n",
       "    </tr>\n",
       "    <tr>\n",
       "      <th>2</th>\n",
       "      <td>0.003777</td>\n",
       "      <td>0.000620</td>\n",
       "      <td>0.002581</td>\n",
       "      <td>0.000309</td>\n",
       "      <td>100</td>\n",
       "      <td>{'C': 100}</td>\n",
       "      <td>0.739486</td>\n",
       "      <td>0.744135</td>\n",
       "      <td>0.760421</td>\n",
       "      <td>0.680421</td>\n",
       "      <td>0.738000</td>\n",
       "      <td>0.732493</td>\n",
       "      <td>0.027226</td>\n",
       "      <td>1</td>\n",
       "    </tr>\n",
       "  </tbody>\n",
       "</table>\n",
       "</div>"
      ],
      "text/plain": [
       "   mean_fit_time  std_fit_time  mean_score_time  std_score_time param_C  \\\n",
       "0       0.003502      0.000564         0.002379        0.000291       1   \n",
       "1       0.003260      0.000338         0.002257        0.000256      10   \n",
       "2       0.003777      0.000620         0.002581        0.000309     100   \n",
       "\n",
       "       params  split0_test_score  split1_test_score  split2_test_score  \\\n",
       "0    {'C': 1}           0.592961           0.621957           0.665053   \n",
       "1   {'C': 10}           0.745241           0.724436           0.742737   \n",
       "2  {'C': 100}           0.739486           0.744135           0.760421   \n",
       "\n",
       "   split3_test_score  split4_test_score  mean_test_score  std_test_score  \\\n",
       "0           0.515789           0.476222         0.574396        0.069135   \n",
       "1           0.632000           0.710444         0.710972        0.041477   \n",
       "2           0.680421           0.738000         0.732493        0.027226   \n",
       "\n",
       "   rank_test_score  \n",
       "0                3  \n",
       "1                2  \n",
       "2                1  "
      ]
     },
     "execution_count": 9,
     "metadata": {},
     "output_type": "execute_result"
    }
   ],
   "source": [
    "log_reg_lasso = LogisticRegression(penalty = 'l1', solver = 'liblinear', max_iter = 1000)\n",
    "parameters = {'C':[1, 10, 100]}\n",
    "grid_search_results = GridSearchCV(log_reg_lasso, parameters, 'roc_auc').fit(X_train, y_train)\n",
    "\n",
    "pd.DataFrame(grid_search_results.cv_results_)"
   ]
  },
  {
   "cell_type": "code",
   "execution_count": 30,
   "metadata": {},
   "outputs": [],
   "source": [
    "best_log_reg_lasso = LogisticRegression(penalty = 'l1', C = 100, \n",
    "                                        solver = 'liblinear', max_iter = 1000).fit(X_train, y_train)"
   ]
  },
  {
   "cell_type": "markdown",
   "metadata": {},
   "source": [
    "## Decision Trees"
   ]
  },
  {
   "cell_type": "code",
   "execution_count": 11,
   "metadata": {},
   "outputs": [],
   "source": [
    "from sklearn.tree import DecisionTreeClassifier\n",
    "from sklearn import tree"
   ]
  },
  {
   "cell_type": "code",
   "execution_count": 12,
   "metadata": {},
   "outputs": [
    {
     "name": "stderr",
     "output_type": "stream",
     "text": [
      "/Users/andrey_lukyanov/anaconda3/lib/python3.7/site-packages/sklearn/utils/validation.py:70: FutureWarning: Pass scoring=roc_auc as keyword args. From version 0.25 passing these as positional arguments will result in an error\n",
      "  FutureWarning)\n"
     ]
    },
    {
     "data": {
      "text/html": [
       "<div>\n",
       "<style scoped>\n",
       "    .dataframe tbody tr th:only-of-type {\n",
       "        vertical-align: middle;\n",
       "    }\n",
       "\n",
       "    .dataframe tbody tr th {\n",
       "        vertical-align: top;\n",
       "    }\n",
       "\n",
       "    .dataframe thead th {\n",
       "        text-align: right;\n",
       "    }\n",
       "</style>\n",
       "<table border=\"1\" class=\"dataframe\">\n",
       "  <thead>\n",
       "    <tr style=\"text-align: right;\">\n",
       "      <th></th>\n",
       "      <th>mean_fit_time</th>\n",
       "      <th>std_fit_time</th>\n",
       "      <th>mean_score_time</th>\n",
       "      <th>std_score_time</th>\n",
       "      <th>param_max_depth</th>\n",
       "      <th>params</th>\n",
       "      <th>split0_test_score</th>\n",
       "      <th>split1_test_score</th>\n",
       "      <th>split2_test_score</th>\n",
       "      <th>split3_test_score</th>\n",
       "      <th>split4_test_score</th>\n",
       "      <th>mean_test_score</th>\n",
       "      <th>std_test_score</th>\n",
       "      <th>rank_test_score</th>\n",
       "    </tr>\n",
       "  </thead>\n",
       "  <tbody>\n",
       "    <tr>\n",
       "      <th>0</th>\n",
       "      <td>0.005756</td>\n",
       "      <td>0.000268</td>\n",
       "      <td>0.002489</td>\n",
       "      <td>0.000081</td>\n",
       "      <td>4</td>\n",
       "      <td>{'max_depth': 4}</td>\n",
       "      <td>0.626937</td>\n",
       "      <td>0.646525</td>\n",
       "      <td>0.629263</td>\n",
       "      <td>0.736947</td>\n",
       "      <td>0.722222</td>\n",
       "      <td>0.672379</td>\n",
       "      <td>0.047425</td>\n",
       "      <td>1</td>\n",
       "    </tr>\n",
       "    <tr>\n",
       "      <th>1</th>\n",
       "      <td>0.009501</td>\n",
       "      <td>0.002468</td>\n",
       "      <td>0.003997</td>\n",
       "      <td>0.001420</td>\n",
       "      <td>6</td>\n",
       "      <td>{'max_depth': 6}</td>\n",
       "      <td>0.713037</td>\n",
       "      <td>0.653165</td>\n",
       "      <td>0.709895</td>\n",
       "      <td>0.604842</td>\n",
       "      <td>0.561556</td>\n",
       "      <td>0.648499</td>\n",
       "      <td>0.059028</td>\n",
       "      <td>2</td>\n",
       "    </tr>\n",
       "    <tr>\n",
       "      <th>2</th>\n",
       "      <td>0.008036</td>\n",
       "      <td>0.000440</td>\n",
       "      <td>0.002259</td>\n",
       "      <td>0.000157</td>\n",
       "      <td>10</td>\n",
       "      <td>{'max_depth': 10}</td>\n",
       "      <td>0.659805</td>\n",
       "      <td>0.558101</td>\n",
       "      <td>0.717579</td>\n",
       "      <td>0.631789</td>\n",
       "      <td>0.500889</td>\n",
       "      <td>0.613633</td>\n",
       "      <td>0.076238</td>\n",
       "      <td>3</td>\n",
       "    </tr>\n",
       "    <tr>\n",
       "      <th>3</th>\n",
       "      <td>0.008261</td>\n",
       "      <td>0.000497</td>\n",
       "      <td>0.002208</td>\n",
       "      <td>0.000083</td>\n",
       "      <td>12</td>\n",
       "      <td>{'max_depth': 12}</td>\n",
       "      <td>0.601815</td>\n",
       "      <td>0.562749</td>\n",
       "      <td>0.733895</td>\n",
       "      <td>0.528526</td>\n",
       "      <td>0.552333</td>\n",
       "      <td>0.595864</td>\n",
       "      <td>0.072957</td>\n",
       "      <td>4</td>\n",
       "    </tr>\n",
       "  </tbody>\n",
       "</table>\n",
       "</div>"
      ],
      "text/plain": [
       "   mean_fit_time  std_fit_time  mean_score_time  std_score_time  \\\n",
       "0       0.005756      0.000268         0.002489        0.000081   \n",
       "1       0.009501      0.002468         0.003997        0.001420   \n",
       "2       0.008036      0.000440         0.002259        0.000157   \n",
       "3       0.008261      0.000497         0.002208        0.000083   \n",
       "\n",
       "  param_max_depth             params  split0_test_score  split1_test_score  \\\n",
       "0               4   {'max_depth': 4}           0.626937           0.646525   \n",
       "1               6   {'max_depth': 6}           0.713037           0.653165   \n",
       "2              10  {'max_depth': 10}           0.659805           0.558101   \n",
       "3              12  {'max_depth': 12}           0.601815           0.562749   \n",
       "\n",
       "   split2_test_score  split3_test_score  split4_test_score  mean_test_score  \\\n",
       "0           0.629263           0.736947           0.722222         0.672379   \n",
       "1           0.709895           0.604842           0.561556         0.648499   \n",
       "2           0.717579           0.631789           0.500889         0.613633   \n",
       "3           0.733895           0.528526           0.552333         0.595864   \n",
       "\n",
       "   std_test_score  rank_test_score  \n",
       "0        0.047425                1  \n",
       "1        0.059028                2  \n",
       "2        0.076238                3  \n",
       "3        0.072957                4  "
      ]
     },
     "execution_count": 12,
     "metadata": {},
     "output_type": "execute_result"
    }
   ],
   "source": [
    "decision_tree = DecisionTreeClassifier().fit(X_train, y_train)\n",
    "parameters = {'max_depth':[4, 6, 10, 12]}\n",
    "grid_search_results = GridSearchCV(decision_tree, parameters, 'roc_auc').fit(X_train, y_train)\n",
    "\n",
    "pd.DataFrame(grid_search_results.cv_results_)"
   ]
  },
  {
   "cell_type": "code",
   "execution_count": 13,
   "metadata": {},
   "outputs": [
    {
     "data": {
      "image/png": "[encoded data removed]",
      "text/plain": [
       "<Figure size 1440x1440 with 1 Axes>"
      ]
     },
     "metadata": {
      "needs_background": "light"
     },
     "output_type": "display_data"
    }
   ],
   "source": [
    "fig, axes = plt.subplots(nrows = 1,ncols = 1,figsize = (20,20))\n",
    "best_decision_tree = DecisionTreeClassifier(max_depth = 4).fit(X_train, y_train)\n",
    "\n",
    "tree.plot_tree(best_decision_tree);"
   ]
  },
  {
   "cell_type": "markdown",
   "metadata": {},
   "source": [
    "## Random Forest"
   ]
  },
  {
   "cell_type": "code",
   "execution_count": 14,
   "metadata": {},
   "outputs": [],
   "source": [
    "from sklearn.ensemble import RandomForestClassifier\n",
    "\n",
    "random_forest = RandomForestClassifier().fit(X_train, y_train)"
   ]
  },
  {
   "cell_type": "markdown",
   "metadata": {},
   "source": [
    "## Neural Networks"
   ]
  },
  {
   "cell_type": "code",
   "execution_count": 15,
   "metadata": {},
   "outputs": [],
   "source": [
    "from sklearn.neural_network import MLPClassifier"
   ]
  },
  {
   "cell_type": "code",
   "execution_count": 16,
   "metadata": {},
   "outputs": [
    {
     "name": "stderr",
     "output_type": "stream",
     "text": [
      "/Users/andrey_lukyanov/anaconda3/lib/python3.7/site-packages/sklearn/utils/validation.py:70: FutureWarning: Pass scoring=roc_auc as keyword args. From version 0.25 passing these as positional arguments will result in an error\n",
      "  FutureWarning)\n"
     ]
    },
    {
     "data": {
      "text/html": [
       "<div>\n",
       "<style scoped>\n",
       "    .dataframe tbody tr th:only-of-type {\n",
       "        vertical-align: middle;\n",
       "    }\n",
       "\n",
       "    .dataframe tbody tr th {\n",
       "        vertical-align: top;\n",
       "    }\n",
       "\n",
       "    .dataframe thead th {\n",
       "        text-align: right;\n",
       "    }\n",
       "</style>\n",
       "<table border=\"1\" class=\"dataframe\">\n",
       "  <thead>\n",
       "    <tr style=\"text-align: right;\">\n",
       "      <th></th>\n",
       "      <th>mean_fit_time</th>\n",
       "      <th>std_fit_time</th>\n",
       "      <th>mean_score_time</th>\n",
       "      <th>std_score_time</th>\n",
       "      <th>param_hidden_layer_sizes</th>\n",
       "      <th>params</th>\n",
       "      <th>split0_test_score</th>\n",
       "      <th>split1_test_score</th>\n",
       "      <th>split2_test_score</th>\n",
       "      <th>split3_test_score</th>\n",
       "      <th>split4_test_score</th>\n",
       "      <th>mean_test_score</th>\n",
       "      <th>std_test_score</th>\n",
       "      <th>rank_test_score</th>\n",
       "    </tr>\n",
       "  </thead>\n",
       "  <tbody>\n",
       "    <tr>\n",
       "      <th>0</th>\n",
       "      <td>0.299053</td>\n",
       "      <td>0.186894</td>\n",
       "      <td>0.002602</td>\n",
       "      <td>0.000128</td>\n",
       "      <td>10</td>\n",
       "      <td>{'hidden_layer_sizes': 10}</td>\n",
       "      <td>0.718017</td>\n",
       "      <td>0.729969</td>\n",
       "      <td>0.650316</td>\n",
       "      <td>0.614737</td>\n",
       "      <td>0.737556</td>\n",
       "      <td>0.690119</td>\n",
       "      <td>0.048751</td>\n",
       "      <td>1</td>\n",
       "    </tr>\n",
       "    <tr>\n",
       "      <th>1</th>\n",
       "      <td>1.477202</td>\n",
       "      <td>1.030927</td>\n",
       "      <td>0.003271</td>\n",
       "      <td>0.000964</td>\n",
       "      <td>20</td>\n",
       "      <td>{'hidden_layer_sizes': 20}</td>\n",
       "      <td>0.755865</td>\n",
       "      <td>0.711598</td>\n",
       "      <td>0.567789</td>\n",
       "      <td>0.563789</td>\n",
       "      <td>0.563333</td>\n",
       "      <td>0.632475</td>\n",
       "      <td>0.083867</td>\n",
       "      <td>3</td>\n",
       "    </tr>\n",
       "    <tr>\n",
       "      <th>2</th>\n",
       "      <td>1.838674</td>\n",
       "      <td>1.172761</td>\n",
       "      <td>0.002628</td>\n",
       "      <td>0.000169</td>\n",
       "      <td>(10, 15)</td>\n",
       "      <td>{'hidden_layer_sizes': (10, 15)}</td>\n",
       "      <td>0.718459</td>\n",
       "      <td>0.708057</td>\n",
       "      <td>0.523158</td>\n",
       "      <td>0.580421</td>\n",
       "      <td>0.592667</td>\n",
       "      <td>0.624552</td>\n",
       "      <td>0.076206</td>\n",
       "      <td>4</td>\n",
       "    </tr>\n",
       "    <tr>\n",
       "      <th>3</th>\n",
       "      <td>2.672619</td>\n",
       "      <td>1.236046</td>\n",
       "      <td>0.002528</td>\n",
       "      <td>0.000073</td>\n",
       "      <td>(20, 25)</td>\n",
       "      <td>{'hidden_layer_sizes': (20, 25)}</td>\n",
       "      <td>0.669101</td>\n",
       "      <td>0.810536</td>\n",
       "      <td>0.538316</td>\n",
       "      <td>0.581895</td>\n",
       "      <td>0.681778</td>\n",
       "      <td>0.656325</td>\n",
       "      <td>0.093870</td>\n",
       "      <td>2</td>\n",
       "    </tr>\n",
       "  </tbody>\n",
       "</table>\n",
       "</div>"
      ],
      "text/plain": [
       "   mean_fit_time  std_fit_time  mean_score_time  std_score_time  \\\n",
       "0       0.299053      0.186894         0.002602        0.000128   \n",
       "1       1.477202      1.030927         0.003271        0.000964   \n",
       "2       1.838674      1.172761         0.002628        0.000169   \n",
       "3       2.672619      1.236046         0.002528        0.000073   \n",
       "\n",
       "  param_hidden_layer_sizes                            params  \\\n",
       "0                       10        {'hidden_layer_sizes': 10}   \n",
       "1                       20        {'hidden_layer_sizes': 20}   \n",
       "2                 (10, 15)  {'hidden_layer_sizes': (10, 15)}   \n",
       "3                 (20, 25)  {'hidden_layer_sizes': (20, 25)}   \n",
       "\n",
       "   split0_test_score  split1_test_score  split2_test_score  split3_test_score  \\\n",
       "0           0.718017           0.729969           0.650316           0.614737   \n",
       "1           0.755865           0.711598           0.567789           0.563789   \n",
       "2           0.718459           0.708057           0.523158           0.580421   \n",
       "3           0.669101           0.810536           0.538316           0.581895   \n",
       "\n",
       "   split4_test_score  mean_test_score  std_test_score  rank_test_score  \n",
       "0           0.737556         0.690119        0.048751                1  \n",
       "1           0.563333         0.632475        0.083867                3  \n",
       "2           0.592667         0.624552        0.076206                4  \n",
       "3           0.681778         0.656325        0.093870                2  "
      ]
     },
     "execution_count": 16,
     "metadata": {},
     "output_type": "execute_result"
    }
   ],
   "source": [
    "nn = MLPClassifier(solver='lbfgs', random_state=1, max_iter = 10000)\n",
    "parameters = {'hidden_layer_sizes':[(10), (20), (10, 15), (20, 25)]}\n",
    "\n",
    "grid_search_results = GridSearchCV(nn, parameters, 'roc_auc').fit(X_train, y_train)\n",
    "\n",
    "pd.DataFrame(grid_search_results.cv_results_)"
   ]
  },
  {
   "cell_type": "code",
   "execution_count": 17,
   "metadata": {},
   "outputs": [],
   "source": [
    "best_nn = MLPClassifier(solver='lbfgs', hidden_layer_sizes = (10), \n",
    "                        random_state=1, max_iter = 10000).fit(X_train, y_train)"
   ]
  },
  {
   "cell_type": "markdown",
   "metadata": {},
   "source": [
    "## Gradient Boosting"
   ]
  },
  {
   "cell_type": "code",
   "execution_count": 18,
   "metadata": {},
   "outputs": [],
   "source": [
    "from sklearn.ensemble import GradientBoostingClassifier"
   ]
  },
  {
   "cell_type": "code",
   "execution_count": 19,
   "metadata": {},
   "outputs": [],
   "source": [
    "GBC = GradientBoostingClassifier().fit(X_train, y_train)"
   ]
  },
  {
   "cell_type": "markdown",
   "metadata": {},
   "source": [
    "# 3. AUC ROC"
   ]
  },
  {
   "cell_type": "code",
   "execution_count": 20,
   "metadata": {},
   "outputs": [],
   "source": [
    "from sklearn.metrics import roc_curve\n",
    "from sklearn.metrics import roc_auc_score"
   ]
  },
  {
   "cell_type": "code",
   "execution_count": 21,
   "metadata": {},
   "outputs": [],
   "source": [
    "models = {'Logistic Regression': log_reg, \n",
    "          'Logistic Regression L1': best_log_reg_lasso, \n",
    "          'Decision Tree': best_decision_tree,\n",
    "          'Random Forest': random_forest, \n",
    "          'Neural Network': best_nn,\n",
    "          'Gradient Boosting': GBC}"
   ]
  },
  {
   "cell_type": "code",
   "execution_count": 22,
   "metadata": {},
   "outputs": [
    {
     "data": {
      "image/png": "[encoded data removed]",
      "text/plain": [
       "<Figure size 1080x1080 with 1 Axes>"
      ]
     },
     "metadata": {
      "needs_background": "light"
     },
     "output_type": "display_data"
    }
   ],
   "source": [
    "plt.figure(figsize = (15, 15))\n",
    "plt.title('ROC Curves', fontsize = 26)\n",
    "plt.grid()\n",
    "\n",
    "for model in models: \n",
    "    fpr, tpr, _ = roc_curve(y_test, models[model].predict_proba(X_test)[:,1])\n",
    "    auc = round(roc_auc_score(y_test, models[model].predict(X_test)), 4)\n",
    "    plt.plot(fpr, tpr, label = model + ', AUC ' + str(auc))\n",
    "    \n",
    "plt.legend(fontsize = 16);"
   ]
  },
  {
   "cell_type": "markdown",
   "metadata": {},
   "source": [
    "Gradient Boosting performs best, but not by a huge margin."
   ]
  },
  {
   "cell_type": "markdown",
   "metadata": {},
   "source": [
    "# 4. Confusion matricies"
   ]
  },
  {
   "cell_type": "code",
   "execution_count": 23,
   "metadata": {},
   "outputs": [],
   "source": [
    "from sklearn.metrics import confusion_matrix"
   ]
  },
  {
   "cell_type": "code",
   "execution_count": 24,
   "metadata": {},
   "outputs": [
    {
     "name": "stdout",
     "output_type": "stream",
     "text": [
      "Logistic Regression\n",
      "     0  1\n",
      "0  309  0\n",
      "1   26  1\n",
      "\n",
      "Logistic Regression L1\n",
      "     0  1\n",
      "0  309  0\n",
      "1   26  1\n",
      "\n",
      "Decision Tree\n",
      "     0  1\n",
      "0  305  4\n",
      "1   26  1\n",
      "\n",
      "Random Forest\n",
      "     0  1\n",
      "0  309  0\n",
      "1   25  2\n",
      "\n",
      "Neural Network\n",
      "     0  1\n",
      "0  309  0\n",
      "1   26  1\n",
      "\n",
      "Gradient Boosting\n",
      "     0  1\n",
      "0  307  2\n",
      "1   25  2\n",
      "\n"
     ]
    }
   ],
   "source": [
    "for model in models: \n",
    "    print(model)\n",
    "    print(pd.DataFrame(confusion_matrix(y_test, models[model].predict(X_test))))\n",
    "    print()"
   ]
  },
  {
   "cell_type": "markdown",
   "metadata": {},
   "source": [
    "On the main diagonal of the tables these are true negatives and true positives, while on the secondary false negatives and false positives. In general, the results are not much different from each other. However, what all of them have in comon is the relatively high number of False Negatives and low of True Positives. "
   ]
  },
  {
   "cell_type": "markdown",
   "metadata": {},
   "source": [
    "# 5. Which factors survived?"
   ]
  },
  {
   "cell_type": "code",
   "execution_count": 31,
   "metadata": {},
   "outputs": [
    {
     "data": {
      "text/plain": [
       "array([[-25.33069052,   6.7746019 ,  61.35966738,  15.06073418,\n",
       "         -3.80406442,   0.70179737,  -4.82827478,  -5.79567101,\n",
       "         -6.10469024,   0.21006442]])"
      ]
     },
     "execution_count": 31,
     "metadata": {},
     "output_type": "execute_result"
    }
   ],
   "source": [
    "best_log_reg_lasso.coef_"
   ]
  },
  {
   "cell_type": "markdown",
   "metadata": {},
   "source": [
    "All."
   ]
  },
  {
   "cell_type": "markdown",
   "metadata": {},
   "source": [
    "# 6. Relative importance of variables in a logistic regression"
   ]
  },
  {
   "cell_type": "markdown",
   "metadata": {},
   "source": [
    "https://stats.stackexchange.com/questions/295146/relative-importance-of-predictors-in-logistic-regression"
   ]
  },
  {
   "cell_type": "markdown",
   "metadata": {},
   "source": [
    "# 7. Prediction"
   ]
  },
  {
   "cell_type": "code",
   "execution_count": 26,
   "metadata": {},
   "outputs": [],
   "source": [
    "X_before_2005 = df_final_withyear[df_final_withyear.year < 2005].drop(['year', 'crisis_warning'], axis = 1)\n",
    "y_before_2005 = df_final_withyear[df_final_withyear.year < 2005].crisis_warning\n",
    "\n",
    "X_after_2005 = df_final_withyear[(df_final_withyear.year == 2006) | (df_final_withyear.year == 2007)].drop(['year', 'crisis_warning'], axis = 1)\n",
    "y_after_2005 = df_final_withyear[(df_final_withyear.year == 2006) | (df_final_withyear.year == 2007)].crisis_warning"
   ]
  },
  {
   "cell_type": "code",
   "execution_count": 27,
   "metadata": {},
   "outputs": [
    {
     "data": {
      "text/html": [
       "<div>\n",
       "<style scoped>\n",
       "    .dataframe tbody tr th:only-of-type {\n",
       "        vertical-align: middle;\n",
       "    }\n",
       "\n",
       "    .dataframe tbody tr th {\n",
       "        vertical-align: top;\n",
       "    }\n",
       "\n",
       "    .dataframe thead th {\n",
       "        text-align: right;\n",
       "    }\n",
       "</style>\n",
       "<table border=\"1\" class=\"dataframe\">\n",
       "  <thead>\n",
       "    <tr style=\"text-align: right;\">\n",
       "      <th></th>\n",
       "      <th>Logistic Regression</th>\n",
       "      <th>Logistic Regression L1</th>\n",
       "      <th>Decision Tree</th>\n",
       "      <th>Random Forest</th>\n",
       "      <th>Neural Network</th>\n",
       "      <th>Gradient Boosting</th>\n",
       "      <th>True Value</th>\n",
       "    </tr>\n",
       "  </thead>\n",
       "  <tbody>\n",
       "    <tr>\n",
       "      <th>0</th>\n",
       "      <td>0</td>\n",
       "      <td>0</td>\n",
       "      <td>0</td>\n",
       "      <td>0</td>\n",
       "      <td>0</td>\n",
       "      <td>0</td>\n",
       "      <td>0</td>\n",
       "    </tr>\n",
       "    <tr>\n",
       "      <th>1</th>\n",
       "      <td>0</td>\n",
       "      <td>0</td>\n",
       "      <td>0</td>\n",
       "      <td>0</td>\n",
       "      <td>0</td>\n",
       "      <td>0</td>\n",
       "      <td>0</td>\n",
       "    </tr>\n",
       "    <tr>\n",
       "      <th>2</th>\n",
       "      <td>0</td>\n",
       "      <td>0</td>\n",
       "      <td>0</td>\n",
       "      <td>0</td>\n",
       "      <td>0</td>\n",
       "      <td>0</td>\n",
       "      <td>1</td>\n",
       "    </tr>\n",
       "    <tr>\n",
       "      <th>3</th>\n",
       "      <td>0</td>\n",
       "      <td>0</td>\n",
       "      <td>0</td>\n",
       "      <td>0</td>\n",
       "      <td>0</td>\n",
       "      <td>0</td>\n",
       "      <td>1</td>\n",
       "    </tr>\n",
       "    <tr>\n",
       "      <th>4</th>\n",
       "      <td>0</td>\n",
       "      <td>0</td>\n",
       "      <td>1</td>\n",
       "      <td>0</td>\n",
       "      <td>0</td>\n",
       "      <td>0</td>\n",
       "      <td>1</td>\n",
       "    </tr>\n",
       "    <tr>\n",
       "      <th>5</th>\n",
       "      <td>0</td>\n",
       "      <td>0</td>\n",
       "      <td>0</td>\n",
       "      <td>0</td>\n",
       "      <td>0</td>\n",
       "      <td>1</td>\n",
       "      <td>1</td>\n",
       "    </tr>\n",
       "    <tr>\n",
       "      <th>6</th>\n",
       "      <td>0</td>\n",
       "      <td>0</td>\n",
       "      <td>0</td>\n",
       "      <td>0</td>\n",
       "      <td>0</td>\n",
       "      <td>0</td>\n",
       "      <td>0</td>\n",
       "    </tr>\n",
       "    <tr>\n",
       "      <th>7</th>\n",
       "      <td>0</td>\n",
       "      <td>0</td>\n",
       "      <td>0</td>\n",
       "      <td>0</td>\n",
       "      <td>0</td>\n",
       "      <td>0</td>\n",
       "      <td>0</td>\n",
       "    </tr>\n",
       "    <tr>\n",
       "      <th>8</th>\n",
       "      <td>0</td>\n",
       "      <td>0</td>\n",
       "      <td>0</td>\n",
       "      <td>0</td>\n",
       "      <td>0</td>\n",
       "      <td>0</td>\n",
       "      <td>1</td>\n",
       "    </tr>\n",
       "    <tr>\n",
       "      <th>9</th>\n",
       "      <td>0</td>\n",
       "      <td>0</td>\n",
       "      <td>0</td>\n",
       "      <td>0</td>\n",
       "      <td>0</td>\n",
       "      <td>0</td>\n",
       "      <td>1</td>\n",
       "    </tr>\n",
       "    <tr>\n",
       "      <th>10</th>\n",
       "      <td>0</td>\n",
       "      <td>0</td>\n",
       "      <td>0</td>\n",
       "      <td>0</td>\n",
       "      <td>0</td>\n",
       "      <td>0</td>\n",
       "      <td>1</td>\n",
       "    </tr>\n",
       "    <tr>\n",
       "      <th>11</th>\n",
       "      <td>0</td>\n",
       "      <td>0</td>\n",
       "      <td>0</td>\n",
       "      <td>0</td>\n",
       "      <td>0</td>\n",
       "      <td>0</td>\n",
       "      <td>1</td>\n",
       "    </tr>\n",
       "    <tr>\n",
       "      <th>12</th>\n",
       "      <td>0</td>\n",
       "      <td>0</td>\n",
       "      <td>0</td>\n",
       "      <td>0</td>\n",
       "      <td>0</td>\n",
       "      <td>0</td>\n",
       "      <td>1</td>\n",
       "    </tr>\n",
       "    <tr>\n",
       "      <th>13</th>\n",
       "      <td>0</td>\n",
       "      <td>0</td>\n",
       "      <td>0</td>\n",
       "      <td>0</td>\n",
       "      <td>0</td>\n",
       "      <td>0</td>\n",
       "      <td>1</td>\n",
       "    </tr>\n",
       "    <tr>\n",
       "      <th>14</th>\n",
       "      <td>0</td>\n",
       "      <td>0</td>\n",
       "      <td>0</td>\n",
       "      <td>0</td>\n",
       "      <td>0</td>\n",
       "      <td>0</td>\n",
       "      <td>0</td>\n",
       "    </tr>\n",
       "    <tr>\n",
       "      <th>15</th>\n",
       "      <td>0</td>\n",
       "      <td>0</td>\n",
       "      <td>0</td>\n",
       "      <td>0</td>\n",
       "      <td>0</td>\n",
       "      <td>0</td>\n",
       "      <td>0</td>\n",
       "    </tr>\n",
       "    <tr>\n",
       "      <th>16</th>\n",
       "      <td>0</td>\n",
       "      <td>0</td>\n",
       "      <td>0</td>\n",
       "      <td>0</td>\n",
       "      <td>0</td>\n",
       "      <td>0</td>\n",
       "      <td>1</td>\n",
       "    </tr>\n",
       "    <tr>\n",
       "      <th>17</th>\n",
       "      <td>0</td>\n",
       "      <td>0</td>\n",
       "      <td>0</td>\n",
       "      <td>0</td>\n",
       "      <td>0</td>\n",
       "      <td>0</td>\n",
       "      <td>1</td>\n",
       "    </tr>\n",
       "    <tr>\n",
       "      <th>18</th>\n",
       "      <td>0</td>\n",
       "      <td>0</td>\n",
       "      <td>0</td>\n",
       "      <td>0</td>\n",
       "      <td>0</td>\n",
       "      <td>0</td>\n",
       "      <td>0</td>\n",
       "    </tr>\n",
       "    <tr>\n",
       "      <th>19</th>\n",
       "      <td>0</td>\n",
       "      <td>0</td>\n",
       "      <td>0</td>\n",
       "      <td>0</td>\n",
       "      <td>0</td>\n",
       "      <td>0</td>\n",
       "      <td>0</td>\n",
       "    </tr>\n",
       "    <tr>\n",
       "      <th>20</th>\n",
       "      <td>0</td>\n",
       "      <td>0</td>\n",
       "      <td>0</td>\n",
       "      <td>0</td>\n",
       "      <td>0</td>\n",
       "      <td>0</td>\n",
       "      <td>1</td>\n",
       "    </tr>\n",
       "    <tr>\n",
       "      <th>21</th>\n",
       "      <td>0</td>\n",
       "      <td>0</td>\n",
       "      <td>0</td>\n",
       "      <td>0</td>\n",
       "      <td>0</td>\n",
       "      <td>0</td>\n",
       "      <td>1</td>\n",
       "    </tr>\n",
       "    <tr>\n",
       "      <th>22</th>\n",
       "      <td>0</td>\n",
       "      <td>0</td>\n",
       "      <td>0</td>\n",
       "      <td>0</td>\n",
       "      <td>0</td>\n",
       "      <td>0</td>\n",
       "      <td>1</td>\n",
       "    </tr>\n",
       "    <tr>\n",
       "      <th>23</th>\n",
       "      <td>0</td>\n",
       "      <td>0</td>\n",
       "      <td>0</td>\n",
       "      <td>0</td>\n",
       "      <td>0</td>\n",
       "      <td>0</td>\n",
       "      <td>1</td>\n",
       "    </tr>\n",
       "    <tr>\n",
       "      <th>24</th>\n",
       "      <td>0</td>\n",
       "      <td>0</td>\n",
       "      <td>0</td>\n",
       "      <td>0</td>\n",
       "      <td>0</td>\n",
       "      <td>0</td>\n",
       "      <td>1</td>\n",
       "    </tr>\n",
       "    <tr>\n",
       "      <th>25</th>\n",
       "      <td>0</td>\n",
       "      <td>0</td>\n",
       "      <td>0</td>\n",
       "      <td>0</td>\n",
       "      <td>0</td>\n",
       "      <td>0</td>\n",
       "      <td>1</td>\n",
       "    </tr>\n",
       "    <tr>\n",
       "      <th>26</th>\n",
       "      <td>0</td>\n",
       "      <td>0</td>\n",
       "      <td>0</td>\n",
       "      <td>0</td>\n",
       "      <td>0</td>\n",
       "      <td>0</td>\n",
       "      <td>1</td>\n",
       "    </tr>\n",
       "    <tr>\n",
       "      <th>27</th>\n",
       "      <td>0</td>\n",
       "      <td>0</td>\n",
       "      <td>0</td>\n",
       "      <td>0</td>\n",
       "      <td>0</td>\n",
       "      <td>0</td>\n",
       "      <td>1</td>\n",
       "    </tr>\n",
       "    <tr>\n",
       "      <th>28</th>\n",
       "      <td>0</td>\n",
       "      <td>0</td>\n",
       "      <td>0</td>\n",
       "      <td>0</td>\n",
       "      <td>0</td>\n",
       "      <td>0</td>\n",
       "      <td>1</td>\n",
       "    </tr>\n",
       "    <tr>\n",
       "      <th>29</th>\n",
       "      <td>0</td>\n",
       "      <td>0</td>\n",
       "      <td>0</td>\n",
       "      <td>0</td>\n",
       "      <td>0</td>\n",
       "      <td>0</td>\n",
       "      <td>0</td>\n",
       "    </tr>\n",
       "    <tr>\n",
       "      <th>30</th>\n",
       "      <td>0</td>\n",
       "      <td>0</td>\n",
       "      <td>0</td>\n",
       "      <td>0</td>\n",
       "      <td>0</td>\n",
       "      <td>0</td>\n",
       "      <td>1</td>\n",
       "    </tr>\n",
       "    <tr>\n",
       "      <th>31</th>\n",
       "      <td>0</td>\n",
       "      <td>0</td>\n",
       "      <td>0</td>\n",
       "      <td>0</td>\n",
       "      <td>0</td>\n",
       "      <td>0</td>\n",
       "      <td>0</td>\n",
       "    </tr>\n",
       "  </tbody>\n",
       "</table>\n",
       "</div>"
      ],
      "text/plain": [
       "    Logistic Regression  Logistic Regression L1  Decision Tree  Random Forest  \\\n",
       "0                     0                       0              0              0   \n",
       "1                     0                       0              0              0   \n",
       "2                     0                       0              0              0   \n",
       "3                     0                       0              0              0   \n",
       "4                     0                       0              1              0   \n",
       "5                     0                       0              0              0   \n",
       "6                     0                       0              0              0   \n",
       "7                     0                       0              0              0   \n",
       "8                     0                       0              0              0   \n",
       "9                     0                       0              0              0   \n",
       "10                    0                       0              0              0   \n",
       "11                    0                       0              0              0   \n",
       "12                    0                       0              0              0   \n",
       "13                    0                       0              0              0   \n",
       "14                    0                       0              0              0   \n",
       "15                    0                       0              0              0   \n",
       "16                    0                       0              0              0   \n",
       "17                    0                       0              0              0   \n",
       "18                    0                       0              0              0   \n",
       "19                    0                       0              0              0   \n",
       "20                    0                       0              0              0   \n",
       "21                    0                       0              0              0   \n",
       "22                    0                       0              0              0   \n",
       "23                    0                       0              0              0   \n",
       "24                    0                       0              0              0   \n",
       "25                    0                       0              0              0   \n",
       "26                    0                       0              0              0   \n",
       "27                    0                       0              0              0   \n",
       "28                    0                       0              0              0   \n",
       "29                    0                       0              0              0   \n",
       "30                    0                       0              0              0   \n",
       "31                    0                       0              0              0   \n",
       "\n",
       "    Neural Network  Gradient Boosting  True Value  \n",
       "0                0                  0           0  \n",
       "1                0                  0           0  \n",
       "2                0                  0           1  \n",
       "3                0                  0           1  \n",
       "4                0                  0           1  \n",
       "5                0                  1           1  \n",
       "6                0                  0           0  \n",
       "7                0                  0           0  \n",
       "8                0                  0           1  \n",
       "9                0                  0           1  \n",
       "10               0                  0           1  \n",
       "11               0                  0           1  \n",
       "12               0                  0           1  \n",
       "13               0                  0           1  \n",
       "14               0                  0           0  \n",
       "15               0                  0           0  \n",
       "16               0                  0           1  \n",
       "17               0                  0           1  \n",
       "18               0                  0           0  \n",
       "19               0                  0           0  \n",
       "20               0                  0           1  \n",
       "21               0                  0           1  \n",
       "22               0                  0           1  \n",
       "23               0                  0           1  \n",
       "24               0                  0           1  \n",
       "25               0                  0           1  \n",
       "26               0                  0           1  \n",
       "27               0                  0           1  \n",
       "28               0                  0           1  \n",
       "29               0                  0           0  \n",
       "30               0                  0           1  \n",
       "31               0                  0           0  "
      ]
     },
     "execution_count": 27,
     "metadata": {},
     "output_type": "execute_result"
    }
   ],
   "source": [
    "predictions = pd.DataFrame(np.zeros([32, 6]), columns = models.keys())\n",
    "\n",
    "for model in models:\n",
    "    model_fit = models[model].fit(X_before_2005, y_before_2005)\n",
    "    if 'Logistic Regression' in model:\n",
    "        predictions[model] = (model_fit.predict_proba(X_after_2005)[:,1] >= 0.8) * 1\n",
    "    else:\n",
    "        predictions[model] = model_fit.predict(X_after_2005)\n",
    "\n",
    "predictions['True Value'] = y_after_2005.values\n",
    "predictions"
   ]
  },
  {
   "cell_type": "markdown",
   "metadata": {},
   "source": [
    "Well, this is a failure."
   ]
  }
 ],
 "metadata": {
  "kernelspec": {
   "display_name": "Python 3",
   "language": "python",
   "name": "python3"
  },
  "language_info": {
   "codemirror_mode": {
    "name": "ipython",
    "version": 3
   },
   "file_extension": ".py",
   "mimetype": "text/x-python",
   "name": "python",
   "nbconvert_exporter": "python",
   "pygments_lexer": "ipython3",
   "version": "3.7.7"
  }
 },
 "nbformat": 4,
 "nbformat_minor": 4
}
